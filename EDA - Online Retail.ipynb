{
 "cells": [
  {
   "cell_type": "markdown",
   "id": "6138ab75",
   "metadata": {},
   "source": [
    "# Exploratory Data Analysis (EDA) - Online Retail Dataset\n",
    "\n",
    "**About the dataset:**\n",
    "\n",
    "This is a transnational data set which contains all the transactions occurring between 01/12/2010 and 09/12/2011 for a UK-based and registered non-store online retail.The company mainly sells unique all-occasion gifts. Many customers of the company are wholesalers.\n",
    "\n",
    "**Feature Information:**\n",
    "\n",
    "| Name | Description |\n",
    "| :-- | :-- |\n",
    "| InvoiceNo | Invoice number. Nominal, a 6-digit integral number uniquely assigned to each transaction. If this code starts with letter 'c', it indicates a cancellation. |\n",
    "| StockCode | Product (item) code. Nominal, a 5-digit integral number uniquely assigned to each distinct product. |\n",
    "| Description | Product (item) name. Nominal. |\n",
    "| Quantity | The quantities of each product (item) per transaction. Numeric. |\n",
    "| InvoiceDate | Invice Date and time. Numeric, the day and time when each transaction was generated. |\n",
    "| UnitPrice | Unit price. Numeric, Product price per unit in sterling. |\n",
    "| CustomerID | Customer number. Nominal, a 5-digit integral number uniquely assigned to each customer. |\n",
    "| Country | Country name. Nominal, the name of the country where each customer resides. |\n",
    "\n",
    "The dataset can be downloaded from below link:\n",
    "\n",
    "https://archive.ics.uci.edu/ml/datasets/Online+Retail"
   ]
  },
  {
   "cell_type": "code",
   "execution_count": 1,
   "id": "7b08604d",
   "metadata": {},
   "outputs": [],
   "source": [
    "# Import required libraries\n",
    "import pandas as pd\n",
    "import numpy as np\n",
    "\n",
    "import seaborn as sns\n",
    "import matplotlib.pyplot as plt\n",
    "import warnings\n",
    "warnings.filterwarnings('ignore')\n",
    "\n",
    "%matplotlib inline"
   ]
  },
  {
   "cell_type": "code",
   "execution_count": 2,
   "id": "f7aacf24",
   "metadata": {},
   "outputs": [],
   "source": [
    "# Load the data\n",
    "data_path = 'Online_Retail.xlsx'\n",
    "\n",
    "data = pd.read_excel(data_path)"
   ]
  },
  {
   "cell_type": "code",
   "execution_count": 3,
   "id": "e785e426",
   "metadata": {},
   "outputs": [
    {
     "data": {
      "text/html": [
       "<div>\n",
       "<style scoped>\n",
       "    .dataframe tbody tr th:only-of-type {\n",
       "        vertical-align: middle;\n",
       "    }\n",
       "\n",
       "    .dataframe tbody tr th {\n",
       "        vertical-align: top;\n",
       "    }\n",
       "\n",
       "    .dataframe thead th {\n",
       "        text-align: right;\n",
       "    }\n",
       "</style>\n",
       "<table border=\"1\" class=\"dataframe\">\n",
       "  <thead>\n",
       "    <tr style=\"text-align: right;\">\n",
       "      <th></th>\n",
       "      <th>InvoiceNo</th>\n",
       "      <th>StockCode</th>\n",
       "      <th>Description</th>\n",
       "      <th>Quantity</th>\n",
       "      <th>InvoiceDate</th>\n",
       "      <th>UnitPrice</th>\n",
       "      <th>CustomerID</th>\n",
       "      <th>Country</th>\n",
       "    </tr>\n",
       "  </thead>\n",
       "  <tbody>\n",
       "    <tr>\n",
       "      <th>0</th>\n",
       "      <td>536365</td>\n",
       "      <td>85123A</td>\n",
       "      <td>WHITE HANGING HEART T-LIGHT HOLDER</td>\n",
       "      <td>6</td>\n",
       "      <td>2010-12-01 08:26:00</td>\n",
       "      <td>2.55</td>\n",
       "      <td>17850.0</td>\n",
       "      <td>United Kingdom</td>\n",
       "    </tr>\n",
       "    <tr>\n",
       "      <th>1</th>\n",
       "      <td>536365</td>\n",
       "      <td>71053</td>\n",
       "      <td>WHITE METAL LANTERN</td>\n",
       "      <td>6</td>\n",
       "      <td>2010-12-01 08:26:00</td>\n",
       "      <td>3.39</td>\n",
       "      <td>17850.0</td>\n",
       "      <td>United Kingdom</td>\n",
       "    </tr>\n",
       "    <tr>\n",
       "      <th>2</th>\n",
       "      <td>536365</td>\n",
       "      <td>84406B</td>\n",
       "      <td>CREAM CUPID HEARTS COAT HANGER</td>\n",
       "      <td>8</td>\n",
       "      <td>2010-12-01 08:26:00</td>\n",
       "      <td>2.75</td>\n",
       "      <td>17850.0</td>\n",
       "      <td>United Kingdom</td>\n",
       "    </tr>\n",
       "    <tr>\n",
       "      <th>3</th>\n",
       "      <td>536365</td>\n",
       "      <td>84029G</td>\n",
       "      <td>KNITTED UNION FLAG HOT WATER BOTTLE</td>\n",
       "      <td>6</td>\n",
       "      <td>2010-12-01 08:26:00</td>\n",
       "      <td>3.39</td>\n",
       "      <td>17850.0</td>\n",
       "      <td>United Kingdom</td>\n",
       "    </tr>\n",
       "    <tr>\n",
       "      <th>4</th>\n",
       "      <td>536365</td>\n",
       "      <td>84029E</td>\n",
       "      <td>RED WOOLLY HOTTIE WHITE HEART.</td>\n",
       "      <td>6</td>\n",
       "      <td>2010-12-01 08:26:00</td>\n",
       "      <td>3.39</td>\n",
       "      <td>17850.0</td>\n",
       "      <td>United Kingdom</td>\n",
       "    </tr>\n",
       "  </tbody>\n",
       "</table>\n",
       "</div>"
      ],
      "text/plain": [
       "  InvoiceNo StockCode                          Description  Quantity  \\\n",
       "0    536365    85123A   WHITE HANGING HEART T-LIGHT HOLDER         6   \n",
       "1    536365     71053                  WHITE METAL LANTERN         6   \n",
       "2    536365    84406B       CREAM CUPID HEARTS COAT HANGER         8   \n",
       "3    536365    84029G  KNITTED UNION FLAG HOT WATER BOTTLE         6   \n",
       "4    536365    84029E       RED WOOLLY HOTTIE WHITE HEART.         6   \n",
       "\n",
       "          InvoiceDate  UnitPrice  CustomerID         Country  \n",
       "0 2010-12-01 08:26:00       2.55     17850.0  United Kingdom  \n",
       "1 2010-12-01 08:26:00       3.39     17850.0  United Kingdom  \n",
       "2 2010-12-01 08:26:00       2.75     17850.0  United Kingdom  \n",
       "3 2010-12-01 08:26:00       3.39     17850.0  United Kingdom  \n",
       "4 2010-12-01 08:26:00       3.39     17850.0  United Kingdom  "
      ]
     },
     "execution_count": 3,
     "metadata": {},
     "output_type": "execute_result"
    }
   ],
   "source": [
    "data.head()"
   ]
  },
  {
   "cell_type": "code",
   "execution_count": 4,
   "id": "6785302d",
   "metadata": {},
   "outputs": [
    {
     "name": "stdout",
     "output_type": "stream",
     "text": [
      "<class 'pandas.core.frame.DataFrame'>\n",
      "RangeIndex: 541909 entries, 0 to 541908\n",
      "Data columns (total 8 columns):\n",
      " #   Column       Non-Null Count   Dtype         \n",
      "---  ------       --------------   -----         \n",
      " 0   InvoiceNo    541909 non-null  object        \n",
      " 1   StockCode    541909 non-null  object        \n",
      " 2   Description  540455 non-null  object        \n",
      " 3   Quantity     541909 non-null  int64         \n",
      " 4   InvoiceDate  541909 non-null  datetime64[ns]\n",
      " 5   UnitPrice    541909 non-null  float64       \n",
      " 6   CustomerID   406829 non-null  float64       \n",
      " 7   Country      541909 non-null  object        \n",
      "dtypes: datetime64[ns](1), float64(2), int64(1), object(4)\n",
      "memory usage: 33.1+ MB\n"
     ]
    }
   ],
   "source": [
    "data.info()"
   ]
  },
  {
   "cell_type": "markdown",
   "id": "2ea6d1b6",
   "metadata": {},
   "source": [
    "## Data Wrangling"
   ]
  },
  {
   "cell_type": "markdown",
   "id": "a8081979",
   "metadata": {},
   "source": [
    "### 1. Check for null values in data"
   ]
  },
  {
   "cell_type": "code",
   "execution_count": 5,
   "id": "dbb8412c",
   "metadata": {},
   "outputs": [
    {
     "data": {
      "text/html": [
       "<div>\n",
       "<style scoped>\n",
       "    .dataframe tbody tr th:only-of-type {\n",
       "        vertical-align: middle;\n",
       "    }\n",
       "\n",
       "    .dataframe tbody tr th {\n",
       "        vertical-align: top;\n",
       "    }\n",
       "\n",
       "    .dataframe thead th {\n",
       "        text-align: right;\n",
       "    }\n",
       "</style>\n",
       "<table border=\"1\" class=\"dataframe\">\n",
       "  <thead>\n",
       "    <tr style=\"text-align: right;\">\n",
       "      <th></th>\n",
       "      <th>Column</th>\n",
       "      <th>Null%</th>\n",
       "    </tr>\n",
       "  </thead>\n",
       "  <tbody>\n",
       "    <tr>\n",
       "      <th>0</th>\n",
       "      <td>InvoiceNo</td>\n",
       "      <td>0.000000</td>\n",
       "    </tr>\n",
       "    <tr>\n",
       "      <th>1</th>\n",
       "      <td>StockCode</td>\n",
       "      <td>0.000000</td>\n",
       "    </tr>\n",
       "    <tr>\n",
       "      <th>2</th>\n",
       "      <td>Description</td>\n",
       "      <td>0.268311</td>\n",
       "    </tr>\n",
       "    <tr>\n",
       "      <th>3</th>\n",
       "      <td>Quantity</td>\n",
       "      <td>0.000000</td>\n",
       "    </tr>\n",
       "    <tr>\n",
       "      <th>4</th>\n",
       "      <td>InvoiceDate</td>\n",
       "      <td>0.000000</td>\n",
       "    </tr>\n",
       "    <tr>\n",
       "      <th>5</th>\n",
       "      <td>UnitPrice</td>\n",
       "      <td>0.000000</td>\n",
       "    </tr>\n",
       "    <tr>\n",
       "      <th>6</th>\n",
       "      <td>CustomerID</td>\n",
       "      <td>24.926694</td>\n",
       "    </tr>\n",
       "    <tr>\n",
       "      <th>7</th>\n",
       "      <td>Country</td>\n",
       "      <td>0.000000</td>\n",
       "    </tr>\n",
       "  </tbody>\n",
       "</table>\n",
       "</div>"
      ],
      "text/plain": [
       "        Column      Null%\n",
       "0    InvoiceNo   0.000000\n",
       "1    StockCode   0.000000\n",
       "2  Description   0.268311\n",
       "3     Quantity   0.000000\n",
       "4  InvoiceDate   0.000000\n",
       "5    UnitPrice   0.000000\n",
       "6   CustomerID  24.926694\n",
       "7      Country   0.000000"
      ]
     },
     "execution_count": 5,
     "metadata": {},
     "output_type": "execute_result"
    }
   ],
   "source": [
    "null_df = (\n",
    "    (data.isnull().sum()/data.shape[0]*100)\n",
    "    .to_frame()\n",
    "    .reset_index()\n",
    "    .rename(columns={'index':'Column', 0:'Null%'})\n",
    ")\n",
    "\n",
    "null_df"
   ]
  },
  {
   "cell_type": "markdown",
   "id": "d09b83ae",
   "metadata": {},
   "source": [
    "- **Description** and **CustomerID** are the only columns with null values\n",
    "- **CustomerID** has a high percentage of null values"
   ]
  },
  {
   "cell_type": "markdown",
   "id": "642ef473",
   "metadata": {},
   "source": [
    "Since both **StockCode** and **Description** provide information about a product, we can use StockCode to fill the null values in Description.\n",
    "\n",
    "But before that we need to check if StockCode's whose Description is Nan have any other non-null entries in Description column"
   ]
  },
  {
   "cell_type": "code",
   "execution_count": 6,
   "id": "a53c0e06",
   "metadata": {},
   "outputs": [
    {
     "name": "stdout",
     "output_type": "stream",
     "text": [
      "No. of StockCode's having Nan entries in Description: 960\n"
     ]
    }
   ],
   "source": [
    "# List StockCode's with Nan Description\n",
    "product_code_list1 = data.loc[data['Description'].isna(), 'StockCode'].unique()\n",
    "print(f\"No. of StockCode's having Nan entries in Description: {len(product_code_list1)}\")"
   ]
  },
  {
   "cell_type": "code",
   "execution_count": 7,
   "id": "55ba0253",
   "metadata": {},
   "outputs": [],
   "source": [
    "# Check if any of the StockCode's listed in previous cell have Description other than Nan\n",
    "product_code_list2 = data.loc[(~data['Description'].isna()) & (data['StockCode'].isin(product_code_list1)), 'StockCode'].unique()"
   ]
  },
  {
   "cell_type": "code",
   "execution_count": 8,
   "id": "635e5c1d",
   "metadata": {},
   "outputs": [
    {
     "name": "stdout",
     "output_type": "stream",
     "text": [
      "848 StockCode's have other non-null entries in Description column\n"
     ]
    }
   ],
   "source": [
    "if len(product_code_list2) > 0:\n",
    "    print(f\"{len(product_code_list2)} StockCode's have other non-null entries in Description column\")\n",
    "else:\n",
    "    pass"
   ]
  },
  {
   "cell_type": "code",
   "execution_count": 9,
   "id": "2cd68fb8",
   "metadata": {},
   "outputs": [],
   "source": [
    "# Create a dictionary of item code and item description\n",
    "item_dict = data[data['StockCode'].isin(product_code_list2)].groupby(['StockCode'])['Description'].agg(pd.Series.mode).to_dict()"
   ]
  },
  {
   "cell_type": "code",
   "execution_count": 10,
   "id": "70ac2f10",
   "metadata": {},
   "outputs": [],
   "source": [
    "# Fill the null values from Description column using the item dictionary\n",
    "data['Description'] = data['Description'].fillna(data['StockCode'].map(item_dict))"
   ]
  },
  {
   "cell_type": "code",
   "execution_count": 11,
   "id": "c4cd6f13",
   "metadata": {},
   "outputs": [
    {
     "data": {
      "text/html": [
       "<div>\n",
       "<style scoped>\n",
       "    .dataframe tbody tr th:only-of-type {\n",
       "        vertical-align: middle;\n",
       "    }\n",
       "\n",
       "    .dataframe tbody tr th {\n",
       "        vertical-align: top;\n",
       "    }\n",
       "\n",
       "    .dataframe thead th {\n",
       "        text-align: right;\n",
       "    }\n",
       "</style>\n",
       "<table border=\"1\" class=\"dataframe\">\n",
       "  <thead>\n",
       "    <tr style=\"text-align: right;\">\n",
       "      <th></th>\n",
       "      <th>Column</th>\n",
       "      <th>Null%</th>\n",
       "    </tr>\n",
       "  </thead>\n",
       "  <tbody>\n",
       "    <tr>\n",
       "      <th>0</th>\n",
       "      <td>InvoiceNo</td>\n",
       "      <td>0.000000</td>\n",
       "    </tr>\n",
       "    <tr>\n",
       "      <th>1</th>\n",
       "      <td>StockCode</td>\n",
       "      <td>0.000000</td>\n",
       "    </tr>\n",
       "    <tr>\n",
       "      <th>2</th>\n",
       "      <td>Description</td>\n",
       "      <td>0.020668</td>\n",
       "    </tr>\n",
       "    <tr>\n",
       "      <th>3</th>\n",
       "      <td>Quantity</td>\n",
       "      <td>0.000000</td>\n",
       "    </tr>\n",
       "    <tr>\n",
       "      <th>4</th>\n",
       "      <td>InvoiceDate</td>\n",
       "      <td>0.000000</td>\n",
       "    </tr>\n",
       "    <tr>\n",
       "      <th>5</th>\n",
       "      <td>UnitPrice</td>\n",
       "      <td>0.000000</td>\n",
       "    </tr>\n",
       "    <tr>\n",
       "      <th>6</th>\n",
       "      <td>CustomerID</td>\n",
       "      <td>24.926694</td>\n",
       "    </tr>\n",
       "    <tr>\n",
       "      <th>7</th>\n",
       "      <td>Country</td>\n",
       "      <td>0.000000</td>\n",
       "    </tr>\n",
       "  </tbody>\n",
       "</table>\n",
       "</div>"
      ],
      "text/plain": [
       "        Column      Null%\n",
       "0    InvoiceNo   0.000000\n",
       "1    StockCode   0.000000\n",
       "2  Description   0.020668\n",
       "3     Quantity   0.000000\n",
       "4  InvoiceDate   0.000000\n",
       "5    UnitPrice   0.000000\n",
       "6   CustomerID  24.926694\n",
       "7      Country   0.000000"
      ]
     },
     "execution_count": 11,
     "metadata": {},
     "output_type": "execute_result"
    }
   ],
   "source": [
    "null_df = (\n",
    "    (data.isnull().sum()/data.shape[0]*100)\n",
    "    .to_frame()\n",
    "    .reset_index()\n",
    "    .rename(columns={'index':'Column', 0:'Null%'})\n",
    ")\n",
    "\n",
    "null_df"
   ]
  },
  {
   "cell_type": "markdown",
   "id": "9aa2565e",
   "metadata": {},
   "source": [
    "- Null % in Description columns has been reduced from 0.26 to 0.02\n",
    "- Leave the CustomerID as it is"
   ]
  },
  {
   "cell_type": "markdown",
   "id": "d7e8d20b",
   "metadata": {},
   "source": [
    "## Exploratory Data Analysis"
   ]
  },
  {
   "cell_type": "code",
   "execution_count": 12,
   "id": "6efd190f",
   "metadata": {},
   "outputs": [
    {
     "data": {
      "text/html": [
       "<div>\n",
       "<style scoped>\n",
       "    .dataframe tbody tr th:only-of-type {\n",
       "        vertical-align: middle;\n",
       "    }\n",
       "\n",
       "    .dataframe tbody tr th {\n",
       "        vertical-align: top;\n",
       "    }\n",
       "\n",
       "    .dataframe thead th {\n",
       "        text-align: right;\n",
       "    }\n",
       "</style>\n",
       "<table border=\"1\" class=\"dataframe\">\n",
       "  <thead>\n",
       "    <tr style=\"text-align: right;\">\n",
       "      <th></th>\n",
       "      <th>Quantity</th>\n",
       "      <th>UnitPrice</th>\n",
       "      <th>CustomerID</th>\n",
       "    </tr>\n",
       "  </thead>\n",
       "  <tbody>\n",
       "    <tr>\n",
       "      <th>count</th>\n",
       "      <td>541909.000000</td>\n",
       "      <td>541909.000000</td>\n",
       "      <td>406829.000000</td>\n",
       "    </tr>\n",
       "    <tr>\n",
       "      <th>mean</th>\n",
       "      <td>9.552250</td>\n",
       "      <td>4.611114</td>\n",
       "      <td>15287.690570</td>\n",
       "    </tr>\n",
       "    <tr>\n",
       "      <th>std</th>\n",
       "      <td>218.081158</td>\n",
       "      <td>96.759853</td>\n",
       "      <td>1713.600303</td>\n",
       "    </tr>\n",
       "    <tr>\n",
       "      <th>min</th>\n",
       "      <td>-80995.000000</td>\n",
       "      <td>-11062.060000</td>\n",
       "      <td>12346.000000</td>\n",
       "    </tr>\n",
       "    <tr>\n",
       "      <th>25%</th>\n",
       "      <td>1.000000</td>\n",
       "      <td>1.250000</td>\n",
       "      <td>13953.000000</td>\n",
       "    </tr>\n",
       "    <tr>\n",
       "      <th>50%</th>\n",
       "      <td>3.000000</td>\n",
       "      <td>2.080000</td>\n",
       "      <td>15152.000000</td>\n",
       "    </tr>\n",
       "    <tr>\n",
       "      <th>75%</th>\n",
       "      <td>10.000000</td>\n",
       "      <td>4.130000</td>\n",
       "      <td>16791.000000</td>\n",
       "    </tr>\n",
       "    <tr>\n",
       "      <th>max</th>\n",
       "      <td>80995.000000</td>\n",
       "      <td>38970.000000</td>\n",
       "      <td>18287.000000</td>\n",
       "    </tr>\n",
       "  </tbody>\n",
       "</table>\n",
       "</div>"
      ],
      "text/plain": [
       "            Quantity      UnitPrice     CustomerID\n",
       "count  541909.000000  541909.000000  406829.000000\n",
       "mean        9.552250       4.611114   15287.690570\n",
       "std       218.081158      96.759853    1713.600303\n",
       "min    -80995.000000  -11062.060000   12346.000000\n",
       "25%         1.000000       1.250000   13953.000000\n",
       "50%         3.000000       2.080000   15152.000000\n",
       "75%        10.000000       4.130000   16791.000000\n",
       "max     80995.000000   38970.000000   18287.000000"
      ]
     },
     "execution_count": 12,
     "metadata": {},
     "output_type": "execute_result"
    }
   ],
   "source": [
    "data.describe()"
   ]
  },
  {
   "cell_type": "markdown",
   "id": "ca5f2a63",
   "metadata": {},
   "source": [
    "From the above data description of the numerical columns it can be seen that there are negative values in **Quantity** and **UnitPrice**\n",
    "\n",
    "**Assumption:** Quantities, with their corresponding UnitPrice values, having negative values were returned or cancelled.\n",
    "\n",
    "To verify the assumption lets look at the **InvoiceNo** of the Quantities with negative value and see the InvoiceNo starts with a **C** which stands for cancelled."
   ]
  },
  {
   "cell_type": "code",
   "execution_count": 13,
   "id": "02a09bbf",
   "metadata": {},
   "outputs": [
    {
     "name": "stdout",
     "output_type": "stream",
     "text": [
      "There are a total of 5172 Invoice No.'s with Quantity less than 0\n"
     ]
    }
   ],
   "source": [
    "# List of Invoice No. where Quantity < 0\n",
    "invoice_list = data[data['Quantity']<0]['InvoiceNo'].unique().tolist()\n",
    "print(f\"There are a total of {len(invoice_list)} Invoice No.'s with Quantity less than 0\")"
   ]
  },
  {
   "cell_type": "code",
   "execution_count": 14,
   "id": "157ed505",
   "metadata": {},
   "outputs": [
    {
     "name": "stdout",
     "output_type": "stream",
     "text": [
      "Percentage of Cancelled InvoiceNo from list of Invoice's with negative Quantity: 74.16860015467904\n"
     ]
    }
   ],
   "source": [
    "# Check the number of cancelled InvoiceNo's from above InvoiceNo list\n",
    "invoice_list_cancelled = [invoice for invoice in invoice_list if 'c' in str(invoice).lower()]\n",
    "print(f\"Percentage of Cancelled InvoiceNo from list of Invoice's with negative Quantity: {len(invoice_list_cancelled)/len(invoice_list)*100}\")"
   ]
  },
  {
   "cell_type": "markdown",
   "id": "a693934e",
   "metadata": {},
   "source": [
    "Hence its safe to assume that Quantities having negative values were returned or cancelled."
   ]
  },
  {
   "cell_type": "markdown",
   "id": "fdb7c0a2",
   "metadata": {},
   "source": [
    "### Percentage of Cancelled Orders"
   ]
  },
  {
   "cell_type": "code",
   "execution_count": 15,
   "id": "ebb07d32",
   "metadata": {},
   "outputs": [
    {
     "name": "stdout",
     "output_type": "stream",
     "text": [
      "Total orders: 25900\n",
      "No. of cancelled orders: 3836\n",
      "Percentage of cancelled orders: 3836/25900 = 14.81%\n"
     ]
    }
   ],
   "source": [
    "cancelled_orders = data[data['InvoiceNo'].astype(str).str.contains('C')]['InvoiceNo'].nunique()\n",
    "total_orders = data['InvoiceNo'].nunique()\n",
    "print(f\"Total orders: {total_orders}\")\n",
    "print(f\"No. of cancelled orders: {cancelled_orders}\")\n",
    "print(f\"Percentage of cancelled orders: {cancelled_orders}/{total_orders} = {round(cancelled_orders/total_orders*100, 2)}%\")"
   ]
  },
  {
   "cell_type": "markdown",
   "id": "840cdce2",
   "metadata": {},
   "source": [
    "### Average number of orders per customer"
   ]
  },
  {
   "cell_type": "code",
   "execution_count": 16,
   "id": "02393657",
   "metadata": {},
   "outputs": [
    {
     "data": {
      "text/html": [
       "<div>\n",
       "<style scoped>\n",
       "    .dataframe tbody tr th:only-of-type {\n",
       "        vertical-align: middle;\n",
       "    }\n",
       "\n",
       "    .dataframe tbody tr th {\n",
       "        vertical-align: top;\n",
       "    }\n",
       "\n",
       "    .dataframe thead th {\n",
       "        text-align: right;\n",
       "    }\n",
       "</style>\n",
       "<table border=\"1\" class=\"dataframe\">\n",
       "  <thead>\n",
       "    <tr style=\"text-align: right;\">\n",
       "      <th></th>\n",
       "      <th>No_of_Orders</th>\n",
       "    </tr>\n",
       "    <tr>\n",
       "      <th>CustomerID</th>\n",
       "      <th></th>\n",
       "    </tr>\n",
       "  </thead>\n",
       "  <tbody>\n",
       "    <tr>\n",
       "      <th>12346.0</th>\n",
       "      <td>2</td>\n",
       "    </tr>\n",
       "    <tr>\n",
       "      <th>12347.0</th>\n",
       "      <td>7</td>\n",
       "    </tr>\n",
       "    <tr>\n",
       "      <th>12348.0</th>\n",
       "      <td>4</td>\n",
       "    </tr>\n",
       "    <tr>\n",
       "      <th>12349.0</th>\n",
       "      <td>1</td>\n",
       "    </tr>\n",
       "    <tr>\n",
       "      <th>12350.0</th>\n",
       "      <td>1</td>\n",
       "    </tr>\n",
       "  </tbody>\n",
       "</table>\n",
       "</div>"
      ],
      "text/plain": [
       "            No_of_Orders\n",
       "CustomerID              \n",
       "12346.0                2\n",
       "12347.0                7\n",
       "12348.0                4\n",
       "12349.0                1\n",
       "12350.0                1"
      ]
     },
     "execution_count": 16,
     "metadata": {},
     "output_type": "execute_result"
    }
   ],
   "source": [
    "group_data = (data.groupby('CustomerID')['InvoiceNo']\n",
    "              .nunique().to_frame()\n",
    "              .rename(columns={'InvoiceNo':'No_of_Orders'})\n",
    "             )\n",
    "group_data.head()"
   ]
  },
  {
   "cell_type": "code",
   "execution_count": 17,
   "id": "88e4f476",
   "metadata": {},
   "outputs": [
    {
     "data": {
      "text/html": [
       "<div>\n",
       "<style scoped>\n",
       "    .dataframe tbody tr th:only-of-type {\n",
       "        vertical-align: middle;\n",
       "    }\n",
       "\n",
       "    .dataframe tbody tr th {\n",
       "        vertical-align: top;\n",
       "    }\n",
       "\n",
       "    .dataframe thead th {\n",
       "        text-align: right;\n",
       "    }\n",
       "</style>\n",
       "<table border=\"1\" class=\"dataframe\">\n",
       "  <thead>\n",
       "    <tr style=\"text-align: right;\">\n",
       "      <th></th>\n",
       "      <th>No_of_Orders</th>\n",
       "    </tr>\n",
       "  </thead>\n",
       "  <tbody>\n",
       "    <tr>\n",
       "      <th>count</th>\n",
       "      <td>4372.000000</td>\n",
       "    </tr>\n",
       "    <tr>\n",
       "      <th>mean</th>\n",
       "      <td>5.075480</td>\n",
       "    </tr>\n",
       "    <tr>\n",
       "      <th>std</th>\n",
       "      <td>9.338754</td>\n",
       "    </tr>\n",
       "    <tr>\n",
       "      <th>min</th>\n",
       "      <td>1.000000</td>\n",
       "    </tr>\n",
       "    <tr>\n",
       "      <th>25%</th>\n",
       "      <td>1.000000</td>\n",
       "    </tr>\n",
       "    <tr>\n",
       "      <th>50%</th>\n",
       "      <td>3.000000</td>\n",
       "    </tr>\n",
       "    <tr>\n",
       "      <th>75%</th>\n",
       "      <td>5.000000</td>\n",
       "    </tr>\n",
       "    <tr>\n",
       "      <th>max</th>\n",
       "      <td>248.000000</td>\n",
       "    </tr>\n",
       "  </tbody>\n",
       "</table>\n",
       "</div>"
      ],
      "text/plain": [
       "       No_of_Orders\n",
       "count   4372.000000\n",
       "mean       5.075480\n",
       "std        9.338754\n",
       "min        1.000000\n",
       "25%        1.000000\n",
       "50%        3.000000\n",
       "75%        5.000000\n",
       "max      248.000000"
      ]
     },
     "execution_count": 17,
     "metadata": {},
     "output_type": "execute_result"
    }
   ],
   "source": [
    "group_data.describe()"
   ]
  },
  {
   "cell_type": "code",
   "execution_count": 18,
   "id": "c4e1c136",
   "metadata": {},
   "outputs": [
    {
     "name": "stdout",
     "output_type": "stream",
     "text": [
      "Average number of orders per customer: 5\n"
     ]
    }
   ],
   "source": [
    "print(f\"Average number of orders per customer: {round(group_data.mean()['No_of_Orders'])}\")"
   ]
  },
  {
   "cell_type": "markdown",
   "id": "ae475576",
   "metadata": {},
   "source": [
    "### Average number of unique items per order"
   ]
  },
  {
   "cell_type": "code",
   "execution_count": 19,
   "id": "30f47db0",
   "metadata": {},
   "outputs": [
    {
     "data": {
      "text/html": [
       "<div>\n",
       "<style scoped>\n",
       "    .dataframe tbody tr th:only-of-type {\n",
       "        vertical-align: middle;\n",
       "    }\n",
       "\n",
       "    .dataframe tbody tr th {\n",
       "        vertical-align: top;\n",
       "    }\n",
       "\n",
       "    .dataframe thead th {\n",
       "        text-align: right;\n",
       "    }\n",
       "</style>\n",
       "<table border=\"1\" class=\"dataframe\">\n",
       "  <thead>\n",
       "    <tr style=\"text-align: right;\">\n",
       "      <th></th>\n",
       "      <th>Uniq_Items</th>\n",
       "    </tr>\n",
       "    <tr>\n",
       "      <th>InvoiceNo</th>\n",
       "      <th></th>\n",
       "    </tr>\n",
       "  </thead>\n",
       "  <tbody>\n",
       "    <tr>\n",
       "      <th>536365</th>\n",
       "      <td>7</td>\n",
       "    </tr>\n",
       "    <tr>\n",
       "      <th>536366</th>\n",
       "      <td>2</td>\n",
       "    </tr>\n",
       "    <tr>\n",
       "      <th>536367</th>\n",
       "      <td>12</td>\n",
       "    </tr>\n",
       "    <tr>\n",
       "      <th>536368</th>\n",
       "      <td>4</td>\n",
       "    </tr>\n",
       "    <tr>\n",
       "      <th>536369</th>\n",
       "      <td>1</td>\n",
       "    </tr>\n",
       "  </tbody>\n",
       "</table>\n",
       "</div>"
      ],
      "text/plain": [
       "           Uniq_Items\n",
       "InvoiceNo            \n",
       "536365              7\n",
       "536366              2\n",
       "536367             12\n",
       "536368              4\n",
       "536369              1"
      ]
     },
     "execution_count": 19,
     "metadata": {},
     "output_type": "execute_result"
    }
   ],
   "source": [
    "group_data = (data.groupby('InvoiceNo')['StockCode']\n",
    "              .nunique().to_frame()\n",
    "              .rename(columns={'StockCode':'Uniq_Items'})\n",
    "             )\n",
    "group_data.head()"
   ]
  },
  {
   "cell_type": "code",
   "execution_count": 20,
   "id": "ee5d90ed",
   "metadata": {},
   "outputs": [
    {
     "data": {
      "text/html": [
       "<div>\n",
       "<style scoped>\n",
       "    .dataframe tbody tr th:only-of-type {\n",
       "        vertical-align: middle;\n",
       "    }\n",
       "\n",
       "    .dataframe tbody tr th {\n",
       "        vertical-align: top;\n",
       "    }\n",
       "\n",
       "    .dataframe thead th {\n",
       "        text-align: right;\n",
       "    }\n",
       "</style>\n",
       "<table border=\"1\" class=\"dataframe\">\n",
       "  <thead>\n",
       "    <tr style=\"text-align: right;\">\n",
       "      <th></th>\n",
       "      <th>Uniq_Items</th>\n",
       "    </tr>\n",
       "  </thead>\n",
       "  <tbody>\n",
       "    <tr>\n",
       "      <th>count</th>\n",
       "      <td>25900.000000</td>\n",
       "    </tr>\n",
       "    <tr>\n",
       "      <th>mean</th>\n",
       "      <td>20.510618</td>\n",
       "    </tr>\n",
       "    <tr>\n",
       "      <th>std</th>\n",
       "      <td>42.500488</td>\n",
       "    </tr>\n",
       "    <tr>\n",
       "      <th>min</th>\n",
       "      <td>1.000000</td>\n",
       "    </tr>\n",
       "    <tr>\n",
       "      <th>25%</th>\n",
       "      <td>2.000000</td>\n",
       "    </tr>\n",
       "    <tr>\n",
       "      <th>50%</th>\n",
       "      <td>10.000000</td>\n",
       "    </tr>\n",
       "    <tr>\n",
       "      <th>75%</th>\n",
       "      <td>23.000000</td>\n",
       "    </tr>\n",
       "    <tr>\n",
       "      <th>max</th>\n",
       "      <td>1110.000000</td>\n",
       "    </tr>\n",
       "  </tbody>\n",
       "</table>\n",
       "</div>"
      ],
      "text/plain": [
       "         Uniq_Items\n",
       "count  25900.000000\n",
       "mean      20.510618\n",
       "std       42.500488\n",
       "min        1.000000\n",
       "25%        2.000000\n",
       "50%       10.000000\n",
       "75%       23.000000\n",
       "max     1110.000000"
      ]
     },
     "execution_count": 20,
     "metadata": {},
     "output_type": "execute_result"
    }
   ],
   "source": [
    "group_data.describe()"
   ]
  },
  {
   "cell_type": "code",
   "execution_count": 21,
   "id": "fe297402",
   "metadata": {},
   "outputs": [
    {
     "name": "stdout",
     "output_type": "stream",
     "text": [
      "Average number of unique items per order: 21\n"
     ]
    }
   ],
   "source": [
    "print(f\"Average number of unique items per order: {round(group_data.mean()['Uniq_Items'])}\")"
   ]
  },
  {
   "cell_type": "code",
   "execution_count": 22,
   "id": "4876e80d",
   "metadata": {},
   "outputs": [
    {
     "data": {
      "image/png": "[encoded data removed]",
      "text/plain": [
       "<Figure size 842.4x720 with 1 Axes>"
      ]
     },
     "metadata": {
      "needs_background": "light"
     },
     "output_type": "display_data"
    }
   ],
   "source": [
    "fig, ax = plt.subplots()\n",
    "fig.set_size_inches(11.7, 10)\n",
    "sns.distplot(group_data['Uniq_Items'],ax=ax)\n",
    "plt.show()"
   ]
  },
  {
   "cell_type": "markdown",
   "id": "4226eec8",
   "metadata": {},
   "source": [
    "- **Its clearly visible that the number of unique items per order is Right Skewed**\n",
    "- **It can be inferred that people tend to buy less than 20 items per order**"
   ]
  },
  {
   "cell_type": "markdown",
   "id": "b46e919d",
   "metadata": {},
   "source": [
    "### Top 10 countries w.r.t Revenue"
   ]
  },
  {
   "cell_type": "code",
   "execution_count": 23,
   "id": "1a3ef901",
   "metadata": {},
   "outputs": [],
   "source": [
    "data['total_cost'] = data['Quantity'] * data['UnitPrice']"
   ]
  },
  {
   "cell_type": "code",
   "execution_count": 24,
   "id": "19f72771",
   "metadata": {},
   "outputs": [],
   "source": [
    "group_data = (data.groupby('Country')['total_cost']\n",
    "              .sum()\n",
    "              .reset_index()\n",
    "              .sort_values('total_cost', ascending=False)\n",
    "              .rename(columns={'total_cost':'Revenue'})\n",
    "             )\n",
    "group_data = group_data.iloc[:10,:]"
   ]
  },
  {
   "cell_type": "code",
   "execution_count": 25,
   "id": "938b1548",
   "metadata": {
    "scrolled": true
   },
   "outputs": [
    {
     "data": {
      "image/png": "[encoded data removed]",
      "text/plain": [
       "<Figure size 864x720 with 1 Axes>"
      ]
     },
     "metadata": {
      "needs_background": "light"
     },
     "output_type": "display_data"
    }
   ],
   "source": [
    "plt.figure(figsize=(12,10))\n",
    "sns.barplot(x='Country', y='Revenue', data=group_data)\n",
    "plt.show()"
   ]
  },
  {
   "cell_type": "markdown",
   "id": "9324acc5",
   "metadata": {},
   "source": [
    "### Top 10 countries w.r.t Customers"
   ]
  },
  {
   "cell_type": "code",
   "execution_count": 26,
   "id": "47010c2c",
   "metadata": {},
   "outputs": [],
   "source": [
    "group_data = (data.groupby('Country')['CustomerID']\n",
    "              .nunique()\n",
    "              .reset_index()\n",
    "              .sort_values('CustomerID', ascending=False)\n",
    "              .rename(columns={'CustomerID':'No. of Customers'})\n",
    "             )\n",
    "group_data = group_data.iloc[:10,:]"
   ]
  },
  {
   "cell_type": "code",
   "execution_count": 27,
   "id": "4467de85",
   "metadata": {},
   "outputs": [
    {
     "data": {
      "image/png": "[encoded data removed]",
      "text/plain": [
       "<Figure size 864x720 with 1 Axes>"
      ]
     },
     "metadata": {
      "needs_background": "light"
     },
     "output_type": "display_data"
    }
   ],
   "source": [
    "plt.figure(figsize=(12,10))\n",
    "sns.barplot(x='Country', y='No. of Customers', data=group_data, )\n",
    "plt.show()"
   ]
  },
  {
   "cell_type": "markdown",
   "id": "a15f8559",
   "metadata": {},
   "source": [
    "The above plots show that UK has a monopoly in terms of both revenue and number of customers.\n",
    "\n",
    "**Hence it can be concluded that UK has the biggest market.**"
   ]
  },
  {
   "cell_type": "markdown",
   "id": "b00e4552",
   "metadata": {},
   "source": [
    "## Explore data from UK"
   ]
  },
  {
   "cell_type": "code",
   "execution_count": 28,
   "id": "bed3eea5",
   "metadata": {},
   "outputs": [],
   "source": [
    "data_uk = data[data['Country']=='United Kingdom']"
   ]
  },
  {
   "cell_type": "markdown",
   "id": "3124ad40",
   "metadata": {},
   "source": [
    "### Some important Stat's"
   ]
  },
  {
   "cell_type": "code",
   "execution_count": 29,
   "id": "800adb63",
   "metadata": {},
   "outputs": [
    {
     "name": "stdout",
     "output_type": "stream",
     "text": [
      "Total number of transactions:  23494\n",
      "Total number of unique products bought:  4065\n",
      "Total number of unique customers: 3950\n"
     ]
    }
   ],
   "source": [
    "print(\"Total number of transactions: \", data_uk['InvoiceNo'].nunique())\n",
    "print(\"Total number of unique products bought: \",data_uk['StockCode'].nunique())\n",
    "print(\"Total number of unique customers:\", data_uk['CustomerID'].nunique() )"
   ]
  },
  {
   "cell_type": "markdown",
   "id": "03f41044",
   "metadata": {},
   "source": [
    "### Products that are most bought in UK"
   ]
  },
  {
   "cell_type": "code",
   "execution_count": 30,
   "id": "ba2130a8",
   "metadata": {},
   "outputs": [
    {
     "data": {
      "text/html": [
       "<div>\n",
       "<style scoped>\n",
       "    .dataframe tbody tr th:only-of-type {\n",
       "        vertical-align: middle;\n",
       "    }\n",
       "\n",
       "    .dataframe tbody tr th {\n",
       "        vertical-align: top;\n",
       "    }\n",
       "\n",
       "    .dataframe thead th {\n",
       "        text-align: right;\n",
       "    }\n",
       "</style>\n",
       "<table border=\"1\" class=\"dataframe\">\n",
       "  <thead>\n",
       "    <tr style=\"text-align: right;\">\n",
       "      <th></th>\n",
       "      <th>StockCode</th>\n",
       "      <th>Quantity</th>\n",
       "    </tr>\n",
       "  </thead>\n",
       "  <tbody>\n",
       "    <tr>\n",
       "      <th>1068</th>\n",
       "      <td>22197</td>\n",
       "      <td>52928</td>\n",
       "    </tr>\n",
       "    <tr>\n",
       "      <th>2620</th>\n",
       "      <td>84077</td>\n",
       "      <td>48326</td>\n",
       "    </tr>\n",
       "    <tr>\n",
       "      <th>3655</th>\n",
       "      <td>85099B</td>\n",
       "      <td>43167</td>\n",
       "    </tr>\n",
       "    <tr>\n",
       "      <th>3666</th>\n",
       "      <td>85123A</td>\n",
       "      <td>36706</td>\n",
       "    </tr>\n",
       "    <tr>\n",
       "      <th>2733</th>\n",
       "      <td>84879</td>\n",
       "      <td>33519</td>\n",
       "    </tr>\n",
       "    <tr>\n",
       "      <th>1451</th>\n",
       "      <td>22616</td>\n",
       "      <td>25307</td>\n",
       "    </tr>\n",
       "    <tr>\n",
       "      <th>375</th>\n",
       "      <td>21212</td>\n",
       "      <td>24702</td>\n",
       "    </tr>\n",
       "    <tr>\n",
       "      <th>1049</th>\n",
       "      <td>22178</td>\n",
       "      <td>23242</td>\n",
       "    </tr>\n",
       "    <tr>\n",
       "      <th>39</th>\n",
       "      <td>17003</td>\n",
       "      <td>22801</td>\n",
       "    </tr>\n",
       "    <tr>\n",
       "      <th>887</th>\n",
       "      <td>21977</td>\n",
       "      <td>20288</td>\n",
       "    </tr>\n",
       "  </tbody>\n",
       "</table>\n",
       "</div>"
      ],
      "text/plain": [
       "     StockCode  Quantity\n",
       "1068     22197     52928\n",
       "2620     84077     48326\n",
       "3655    85099B     43167\n",
       "3666    85123A     36706\n",
       "2733     84879     33519\n",
       "1451     22616     25307\n",
       "375      21212     24702\n",
       "1049     22178     23242\n",
       "39       17003     22801\n",
       "887      21977     20288"
      ]
     },
     "execution_count": 30,
     "metadata": {},
     "output_type": "execute_result"
    }
   ],
   "source": [
    "group_data = (data_uk.groupby('StockCode', as_index=False)['Quantity']\n",
    "              .sum()\n",
    "              .sort_values('Quantity', ascending=False)\n",
    "             )\n",
    "group_data.head(10)"
   ]
  }
 ],
 "metadata": {
  "kernelspec": {
   "display_name": "Python 3",
   "language": "python",
   "name": "python3"
  },
  "language_info": {
   "codemirror_mode": {
    "name": "ipython",
    "version": 3
   },
   "file_extension": ".py",
   "mimetype": "text/x-python",
   "name": "python",
   "nbconvert_exporter": "python",
   "pygments_lexer": "ipython3",
   "version": "3.8.12"
  }
 },
 "nbformat": 4,
 "nbformat_minor": 5
}
