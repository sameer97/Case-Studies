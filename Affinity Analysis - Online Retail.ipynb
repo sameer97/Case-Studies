{
 "cells": [
  {
   "cell_type": "markdown",
   "metadata": {},
   "source": [
    "# Affinity Analysis\n",
    "\n",
    "**Affinity Analysis (or Market Basket Analysis)** finds patterns to determine connections between purchases in order that stores can increase their cross-selling potential."
   ]
  },
  {
   "cell_type": "code",
   "execution_count": 1,
   "metadata": {},
   "outputs": [],
   "source": [
    "# Import required libraries\n",
    "import pandas as pd\n",
    "import numpy as np\n",
    "from itertools import combinations\n",
    "import warnings\n",
    "warnings.filterwarnings('ignore')"
   ]
  },
  {
   "cell_type": "code",
   "execution_count": 2,
   "metadata": {},
   "outputs": [],
   "source": [
    "# Load the data\n",
    "data_path = 'Online_Retail.xlsx'\n",
    "\n",
    "data = pd.read_excel(data_path)"
   ]
  },
  {
   "cell_type": "code",
   "execution_count": 3,
   "metadata": {},
   "outputs": [
    {
     "data": {
      "text/html": [
       "<div>\n",
       "<style scoped>\n",
       "    .dataframe tbody tr th:only-of-type {\n",
       "        vertical-align: middle;\n",
       "    }\n",
       "\n",
       "    .dataframe tbody tr th {\n",
       "        vertical-align: top;\n",
       "    }\n",
       "\n",
       "    .dataframe thead th {\n",
       "        text-align: right;\n",
       "    }\n",
       "</style>\n",
       "<table border=\"1\" class=\"dataframe\">\n",
       "  <thead>\n",
       "    <tr style=\"text-align: right;\">\n",
       "      <th></th>\n",
       "      <th>InvoiceNo</th>\n",
       "      <th>StockCode</th>\n",
       "      <th>Description</th>\n",
       "      <th>Quantity</th>\n",
       "      <th>InvoiceDate</th>\n",
       "      <th>UnitPrice</th>\n",
       "      <th>CustomerID</th>\n",
       "      <th>Country</th>\n",
       "    </tr>\n",
       "  </thead>\n",
       "  <tbody>\n",
       "    <tr>\n",
       "      <th>0</th>\n",
       "      <td>536365</td>\n",
       "      <td>85123A</td>\n",
       "      <td>WHITE HANGING HEART T-LIGHT HOLDER</td>\n",
       "      <td>6</td>\n",
       "      <td>2010-12-01 08:26:00</td>\n",
       "      <td>2.55</td>\n",
       "      <td>17850.0</td>\n",
       "      <td>United Kingdom</td>\n",
       "    </tr>\n",
       "    <tr>\n",
       "      <th>1</th>\n",
       "      <td>536365</td>\n",
       "      <td>71053</td>\n",
       "      <td>WHITE METAL LANTERN</td>\n",
       "      <td>6</td>\n",
       "      <td>2010-12-01 08:26:00</td>\n",
       "      <td>3.39</td>\n",
       "      <td>17850.0</td>\n",
       "      <td>United Kingdom</td>\n",
       "    </tr>\n",
       "    <tr>\n",
       "      <th>2</th>\n",
       "      <td>536365</td>\n",
       "      <td>84406B</td>\n",
       "      <td>CREAM CUPID HEARTS COAT HANGER</td>\n",
       "      <td>8</td>\n",
       "      <td>2010-12-01 08:26:00</td>\n",
       "      <td>2.75</td>\n",
       "      <td>17850.0</td>\n",
       "      <td>United Kingdom</td>\n",
       "    </tr>\n",
       "    <tr>\n",
       "      <th>3</th>\n",
       "      <td>536365</td>\n",
       "      <td>84029G</td>\n",
       "      <td>KNITTED UNION FLAG HOT WATER BOTTLE</td>\n",
       "      <td>6</td>\n",
       "      <td>2010-12-01 08:26:00</td>\n",
       "      <td>3.39</td>\n",
       "      <td>17850.0</td>\n",
       "      <td>United Kingdom</td>\n",
       "    </tr>\n",
       "    <tr>\n",
       "      <th>4</th>\n",
       "      <td>536365</td>\n",
       "      <td>84029E</td>\n",
       "      <td>RED WOOLLY HOTTIE WHITE HEART.</td>\n",
       "      <td>6</td>\n",
       "      <td>2010-12-01 08:26:00</td>\n",
       "      <td>3.39</td>\n",
       "      <td>17850.0</td>\n",
       "      <td>United Kingdom</td>\n",
       "    </tr>\n",
       "  </tbody>\n",
       "</table>\n",
       "</div>"
      ],
      "text/plain": [
       "  InvoiceNo StockCode                          Description  Quantity  \\\n",
       "0    536365    85123A   WHITE HANGING HEART T-LIGHT HOLDER         6   \n",
       "1    536365     71053                  WHITE METAL LANTERN         6   \n",
       "2    536365    84406B       CREAM CUPID HEARTS COAT HANGER         8   \n",
       "3    536365    84029G  KNITTED UNION FLAG HOT WATER BOTTLE         6   \n",
       "4    536365    84029E       RED WOOLLY HOTTIE WHITE HEART.         6   \n",
       "\n",
       "          InvoiceDate  UnitPrice  CustomerID         Country  \n",
       "0 2010-12-01 08:26:00       2.55     17850.0  United Kingdom  \n",
       "1 2010-12-01 08:26:00       3.39     17850.0  United Kingdom  \n",
       "2 2010-12-01 08:26:00       2.75     17850.0  United Kingdom  \n",
       "3 2010-12-01 08:26:00       3.39     17850.0  United Kingdom  \n",
       "4 2010-12-01 08:26:00       3.39     17850.0  United Kingdom  "
      ]
     },
     "execution_count": 3,
     "metadata": {},
     "output_type": "execute_result"
    }
   ],
   "source": [
    "data.head()"
   ]
  },
  {
   "cell_type": "markdown",
   "metadata": {},
   "source": [
    "## Data Wrangling"
   ]
  },
  {
   "cell_type": "code",
   "execution_count": 4,
   "metadata": {},
   "outputs": [
    {
     "data": {
      "text/plain": [
       "(541909, 8)"
      ]
     },
     "execution_count": 4,
     "metadata": {},
     "output_type": "execute_result"
    }
   ],
   "source": [
    "# Remove additional spaces from Description\n",
    "data['Description'] = data['Description'].str.strip()\n",
    "data.shape"
   ]
  },
  {
   "cell_type": "code",
   "execution_count": 5,
   "metadata": {},
   "outputs": [
    {
     "data": {
      "text/plain": [
       "(406829, 8)"
      ]
     },
     "execution_count": 5,
     "metadata": {},
     "output_type": "execute_result"
    }
   ],
   "source": [
    "# Drop rows with Nan values\n",
    "data = data.dropna()\n",
    "data.shape"
   ]
  },
  {
   "cell_type": "code",
   "execution_count": 6,
   "metadata": {},
   "outputs": [
    {
     "data": {
      "text/plain": [
       "(397924, 8)"
      ]
     },
     "execution_count": 6,
     "metadata": {},
     "output_type": "execute_result"
    }
   ],
   "source": [
    "# Remove cancelled or returned orders\n",
    "data = data[data['Quantity']>0]\n",
    "data.shape"
   ]
  },
  {
   "cell_type": "code",
   "execution_count": 7,
   "metadata": {},
   "outputs": [],
   "source": [
    "# Data type conversion\n",
    "data['InvoiceNo'] = data['InvoiceNo'].astype(str)\n",
    "data['StockCode'] = data['StockCode'].astype(str)"
   ]
  },
  {
   "cell_type": "code",
   "execution_count": 8,
   "metadata": {},
   "outputs": [
    {
     "data": {
      "text/plain": [
       "(354345, 8)"
      ]
     },
     "execution_count": 8,
     "metadata": {},
     "output_type": "execute_result"
    }
   ],
   "source": [
    "# Restrict the analysis to United Kingdom\n",
    "data_uk = data[data['Country']=='United Kingdom']\n",
    "data_uk.shape"
   ]
  },
  {
   "cell_type": "markdown",
   "metadata": {},
   "source": [
    "## Market Basket Analysis"
   ]
  },
  {
   "cell_type": "markdown",
   "metadata": {},
   "source": [
    "**Note:** Include products that appear in more tham 3% of transactions as it would help eliminate the scarcely purchased products and reduce the product count which in turn reduces the computation time as there is an exponential increase in computation with a number of items."
   ]
  },
  {
   "cell_type": "code",
   "execution_count": 9,
   "metadata": {},
   "outputs": [
    {
     "name": "stdout",
     "output_type": "stream",
     "text": [
      "Total Transactions: 16649\n",
      "3% of Total Transactions: 499\n"
     ]
    }
   ],
   "source": [
    "total_transactions = data_uk['InvoiceNo'].nunique()\n",
    "print(f'Total Transactions: {total_transactions}')\n",
    "transac_3perc = 0.03*total_transactions\n",
    "print(f\"3% of Total Transactions: {round(transac_3perc)}\")"
   ]
  },
  {
   "cell_type": "code",
   "execution_count": 10,
   "metadata": {},
   "outputs": [
    {
     "data": {
      "text/html": [
       "<div>\n",
       "<style scoped>\n",
       "    .dataframe tbody tr th:only-of-type {\n",
       "        vertical-align: middle;\n",
       "    }\n",
       "\n",
       "    .dataframe tbody tr th {\n",
       "        vertical-align: top;\n",
       "    }\n",
       "\n",
       "    .dataframe thead th {\n",
       "        text-align: right;\n",
       "    }\n",
       "</style>\n",
       "<table border=\"1\" class=\"dataframe\">\n",
       "  <thead>\n",
       "    <tr style=\"text-align: right;\">\n",
       "      <th></th>\n",
       "      <th>StockCode</th>\n",
       "      <th>NoOfTransactions</th>\n",
       "    </tr>\n",
       "  </thead>\n",
       "  <tbody>\n",
       "    <tr>\n",
       "      <th>0</th>\n",
       "      <td>10002</td>\n",
       "      <td>36</td>\n",
       "    </tr>\n",
       "    <tr>\n",
       "      <th>1</th>\n",
       "      <td>10080</td>\n",
       "      <td>21</td>\n",
       "    </tr>\n",
       "    <tr>\n",
       "      <th>2</th>\n",
       "      <td>10120</td>\n",
       "      <td>28</td>\n",
       "    </tr>\n",
       "    <tr>\n",
       "      <th>3</th>\n",
       "      <td>10123C</td>\n",
       "      <td>3</td>\n",
       "    </tr>\n",
       "    <tr>\n",
       "      <th>4</th>\n",
       "      <td>10124A</td>\n",
       "      <td>5</td>\n",
       "    </tr>\n",
       "    <tr>\n",
       "      <th>...</th>\n",
       "      <td>...</td>\n",
       "      <td>...</td>\n",
       "    </tr>\n",
       "    <tr>\n",
       "      <th>3640</th>\n",
       "      <td>C2</td>\n",
       "      <td>30</td>\n",
       "    </tr>\n",
       "    <tr>\n",
       "      <th>3641</th>\n",
       "      <td>DOT</td>\n",
       "      <td>16</td>\n",
       "    </tr>\n",
       "    <tr>\n",
       "      <th>3642</th>\n",
       "      <td>M</td>\n",
       "      <td>227</td>\n",
       "    </tr>\n",
       "    <tr>\n",
       "      <th>3643</th>\n",
       "      <td>PADS</td>\n",
       "      <td>4</td>\n",
       "    </tr>\n",
       "    <tr>\n",
       "      <th>3644</th>\n",
       "      <td>POST</td>\n",
       "      <td>27</td>\n",
       "    </tr>\n",
       "  </tbody>\n",
       "</table>\n",
       "<p>3645 rows × 2 columns</p>\n",
       "</div>"
      ],
      "text/plain": [
       "     StockCode  NoOfTransactions\n",
       "0        10002                36\n",
       "1        10080                21\n",
       "2        10120                28\n",
       "3       10123C                 3\n",
       "4       10124A                 5\n",
       "...        ...               ...\n",
       "3640        C2                30\n",
       "3641       DOT                16\n",
       "3642         M               227\n",
       "3643      PADS                 4\n",
       "3644      POST                27\n",
       "\n",
       "[3645 rows x 2 columns]"
      ]
     },
     "execution_count": 10,
     "metadata": {},
     "output_type": "execute_result"
    }
   ],
   "source": [
    "group_data = (data_uk.groupby('StockCode')['InvoiceNo']\n",
    "              .nunique()\n",
    "              .to_frame()\n",
    "              .reset_index()\n",
    "              .rename(columns={'InvoiceNo':'NoOfTransactions'}))\n",
    "group_data"
   ]
  },
  {
   "cell_type": "code",
   "execution_count": 11,
   "metadata": {},
   "outputs": [
    {
     "name": "stdout",
     "output_type": "stream",
     "text": [
      "92\n"
     ]
    }
   ],
   "source": [
    "product_include = group_data[group_data['NoOfTransactions']>transac_3perc]['StockCode'].tolist()\n",
    "print(len(product_include))"
   ]
  },
  {
   "cell_type": "code",
   "execution_count": 12,
   "metadata": {},
   "outputs": [
    {
     "data": {
      "text/plain": [
       "(68772, 8)"
      ]
     },
     "execution_count": 12,
     "metadata": {},
     "output_type": "execute_result"
    }
   ],
   "source": [
    "data_uk = data_uk[data_uk['StockCode'].isin(product_include)]\n",
    "data_uk.shape"
   ]
  },
  {
   "cell_type": "markdown",
   "metadata": {},
   "source": [
    "### Create a dictionary to map StockCode with Description"
   ]
  },
  {
   "cell_type": "code",
   "execution_count": 13,
   "metadata": {},
   "outputs": [],
   "source": [
    "# Create a dictionary of item code and item description\n",
    "item_dict = data_uk.groupby(['StockCode'])['Description'].agg(pd.Series.mode).to_dict()"
   ]
  },
  {
   "cell_type": "markdown",
   "metadata": {},
   "source": [
    "### List the products included in each transaction"
   ]
  },
  {
   "cell_type": "code",
   "execution_count": 14,
   "metadata": {},
   "outputs": [],
   "source": [
    "transaction_data = data_uk.groupby('InvoiceNo')['StockCode'].unique().to_dict()"
   ]
  },
  {
   "cell_type": "markdown",
   "metadata": {},
   "source": [
    "### Create a basket list: List of all products per transaction"
   ]
  },
  {
   "cell_type": "code",
   "execution_count": 15,
   "metadata": {},
   "outputs": [],
   "source": [
    "basket_list = list(transaction_data.values())"
   ]
  },
  {
   "cell_type": "markdown",
   "metadata": {},
   "source": [
    "### Since Affinity analysis builds the association between 2 or more items that is bought according to historical data, it would less useless to have a transaction with a single item."
   ]
  },
  {
   "cell_type": "code",
   "execution_count": 16,
   "metadata": {},
   "outputs": [
    {
     "data": {
      "text/plain": [
       "10723"
      ]
     },
     "execution_count": 16,
     "metadata": {},
     "output_type": "execute_result"
    }
   ],
   "source": [
    "basket_list = [val for val in basket_list if len(val)>1]\n",
    "len(basket_list)"
   ]
  },
  {
   "cell_type": "markdown",
   "metadata": {},
   "source": [
    "### Create a list of all possible combinations of size 2 from available items"
   ]
  },
  {
   "cell_type": "code",
   "execution_count": 17,
   "metadata": {},
   "outputs": [],
   "source": [
    "item_list = list(item_dict.keys())"
   ]
  },
  {
   "cell_type": "code",
   "execution_count": 18,
   "metadata": {},
   "outputs": [
    {
     "name": "stdout",
     "output_type": "stream",
     "text": [
      "Total Combinations of items: 8372\n"
     ]
    }
   ],
   "source": [
    "item_comb = list(combinations(item_list, 2))\n",
    "reverse_comb_list = [val[::-1] for val in item_comb]\n",
    "item_comb = item_comb + reverse_comb_list\n",
    "print(f\"Total Combinations of items: {len(item_comb)}\")"
   ]
  },
  {
   "cell_type": "markdown",
   "metadata": {},
   "source": [
    "### Create a DataFrame of Antecedents and Consequents\n",
    "\n",
    "- **Antecedents:** These are the items that are bought before a consequent.\n",
    "- **Consequents:** These are the items that are bought after a antecedent.\n",
    "\n",
    "In Affinity analysis we try to build an association between an Antecedent and a Consequents to see how the purchase of an item X affects the purchase of an item Y after X has been put in the basket."
   ]
  },
  {
   "cell_type": "code",
   "execution_count": 19,
   "metadata": {},
   "outputs": [
    {
     "data": {
      "text/html": [
       "<div>\n",
       "<style scoped>\n",
       "    .dataframe tbody tr th:only-of-type {\n",
       "        vertical-align: middle;\n",
       "    }\n",
       "\n",
       "    .dataframe tbody tr th {\n",
       "        vertical-align: top;\n",
       "    }\n",
       "\n",
       "    .dataframe thead th {\n",
       "        text-align: right;\n",
       "    }\n",
       "</style>\n",
       "<table border=\"1\" class=\"dataframe\">\n",
       "  <thead>\n",
       "    <tr style=\"text-align: right;\">\n",
       "      <th></th>\n",
       "      <th>Antecedent</th>\n",
       "      <th>Consequent</th>\n",
       "    </tr>\n",
       "  </thead>\n",
       "  <tbody>\n",
       "    <tr>\n",
       "      <th>0</th>\n",
       "      <td>20685</td>\n",
       "      <td>20724</td>\n",
       "    </tr>\n",
       "    <tr>\n",
       "      <th>1</th>\n",
       "      <td>20685</td>\n",
       "      <td>20725</td>\n",
       "    </tr>\n",
       "    <tr>\n",
       "      <th>2</th>\n",
       "      <td>20685</td>\n",
       "      <td>20726</td>\n",
       "    </tr>\n",
       "    <tr>\n",
       "      <th>3</th>\n",
       "      <td>20685</td>\n",
       "      <td>20727</td>\n",
       "    </tr>\n",
       "    <tr>\n",
       "      <th>4</th>\n",
       "      <td>20685</td>\n",
       "      <td>20728</td>\n",
       "    </tr>\n",
       "  </tbody>\n",
       "</table>\n",
       "</div>"
      ],
      "text/plain": [
       "  Antecedent Consequent\n",
       "0      20685      20724\n",
       "1      20685      20725\n",
       "2      20685      20726\n",
       "3      20685      20727\n",
       "4      20685      20728"
      ]
     },
     "execution_count": 19,
     "metadata": {},
     "output_type": "execute_result"
    }
   ],
   "source": [
    "affinity_data = pd.DataFrame(item_comb, columns=['Antecedent', 'Consequent'])\n",
    "affinity_data.head()"
   ]
  },
  {
   "cell_type": "markdown",
   "metadata": {},
   "source": [
    "### Support\n",
    "\n",
    "Support is how frequently an item or a combination of items occur in the market basket."
   ]
  },
  {
   "cell_type": "code",
   "execution_count": 20,
   "metadata": {},
   "outputs": [],
   "source": [
    "def get_support(items):\n",
    "    if not isinstance(items, list):\n",
    "        items = [items]\n",
    "    support_val = sum(set(items).issubset(set(i)) for i in basket_list)/len(basket_list)\n",
    "    return support_val"
   ]
  },
  {
   "cell_type": "code",
   "execution_count": 21,
   "metadata": {},
   "outputs": [],
   "source": [
    "affinity_data['Antecedent_support'] = affinity_data['Antecedent'].map(get_support)"
   ]
  },
  {
   "cell_type": "code",
   "execution_count": 22,
   "metadata": {},
   "outputs": [],
   "source": [
    "affinity_data['Consequent_support'] = affinity_data['Consequent'].map(get_support)"
   ]
  },
  {
   "cell_type": "code",
   "execution_count": 23,
   "metadata": {},
   "outputs": [],
   "source": [
    "affinity_data['support'] = affinity_data.apply(lambda row: get_support([row['Antecedent'],row['Consequent']]), axis=1)"
   ]
  },
  {
   "cell_type": "code",
   "execution_count": 24,
   "metadata": {},
   "outputs": [
    {
     "data": {
      "text/html": [
       "<div>\n",
       "<style scoped>\n",
       "    .dataframe tbody tr th:only-of-type {\n",
       "        vertical-align: middle;\n",
       "    }\n",
       "\n",
       "    .dataframe tbody tr th {\n",
       "        vertical-align: top;\n",
       "    }\n",
       "\n",
       "    .dataframe thead th {\n",
       "        text-align: right;\n",
       "    }\n",
       "</style>\n",
       "<table border=\"1\" class=\"dataframe\">\n",
       "  <thead>\n",
       "    <tr style=\"text-align: right;\">\n",
       "      <th></th>\n",
       "      <th>Antecedent</th>\n",
       "      <th>Consequent</th>\n",
       "      <th>Antecedent_support</th>\n",
       "      <th>Consequent_support</th>\n",
       "      <th>support</th>\n",
       "    </tr>\n",
       "  </thead>\n",
       "  <tbody>\n",
       "    <tr>\n",
       "      <th>0</th>\n",
       "      <td>20685</td>\n",
       "      <td>20724</td>\n",
       "      <td>0.043271</td>\n",
       "      <td>0.056048</td>\n",
       "      <td>0.002984</td>\n",
       "    </tr>\n",
       "    <tr>\n",
       "      <th>1</th>\n",
       "      <td>20685</td>\n",
       "      <td>20725</td>\n",
       "      <td>0.043271</td>\n",
       "      <td>0.103796</td>\n",
       "      <td>0.006155</td>\n",
       "    </tr>\n",
       "    <tr>\n",
       "      <th>2</th>\n",
       "      <td>20685</td>\n",
       "      <td>20726</td>\n",
       "      <td>0.043271</td>\n",
       "      <td>0.062296</td>\n",
       "      <td>0.003171</td>\n",
       "    </tr>\n",
       "    <tr>\n",
       "      <th>3</th>\n",
       "      <td>20685</td>\n",
       "      <td>20727</td>\n",
       "      <td>0.043271</td>\n",
       "      <td>0.091672</td>\n",
       "      <td>0.004476</td>\n",
       "    </tr>\n",
       "    <tr>\n",
       "      <th>4</th>\n",
       "      <td>20685</td>\n",
       "      <td>20728</td>\n",
       "      <td>0.043271</td>\n",
       "      <td>0.081787</td>\n",
       "      <td>0.004663</td>\n",
       "    </tr>\n",
       "  </tbody>\n",
       "</table>\n",
       "</div>"
      ],
      "text/plain": [
       "  Antecedent Consequent  Antecedent_support  Consequent_support   support\n",
       "0      20685      20724            0.043271            0.056048  0.002984\n",
       "1      20685      20725            0.043271            0.103796  0.006155\n",
       "2      20685      20726            0.043271            0.062296  0.003171\n",
       "3      20685      20727            0.043271            0.091672  0.004476\n",
       "4      20685      20728            0.043271            0.081787  0.004663"
      ]
     },
     "execution_count": 24,
     "metadata": {},
     "output_type": "execute_result"
    }
   ],
   "source": [
    "affinity_data.head()"
   ]
  },
  {
   "cell_type": "markdown",
   "metadata": {},
   "source": [
    "### Confidence\n",
    "\n",
    "It is the percentage of cases in which a consequent appears given that the antecedent has occurred.\n",
    "\n",
    "$P(consequent|antecedent)$"
   ]
  },
  {
   "cell_type": "code",
   "execution_count": 25,
   "metadata": {},
   "outputs": [],
   "source": [
    "affinity_data['confidence'] = affinity_data['support']/affinity_data['Antecedent_support']"
   ]
  },
  {
   "cell_type": "code",
   "execution_count": 26,
   "metadata": {},
   "outputs": [
    {
     "data": {
      "text/html": [
       "<div>\n",
       "<style scoped>\n",
       "    .dataframe tbody tr th:only-of-type {\n",
       "        vertical-align: middle;\n",
       "    }\n",
       "\n",
       "    .dataframe tbody tr th {\n",
       "        vertical-align: top;\n",
       "    }\n",
       "\n",
       "    .dataframe thead th {\n",
       "        text-align: right;\n",
       "    }\n",
       "</style>\n",
       "<table border=\"1\" class=\"dataframe\">\n",
       "  <thead>\n",
       "    <tr style=\"text-align: right;\">\n",
       "      <th></th>\n",
       "      <th>Antecedent</th>\n",
       "      <th>Consequent</th>\n",
       "      <th>Antecedent_support</th>\n",
       "      <th>Consequent_support</th>\n",
       "      <th>support</th>\n",
       "      <th>confidence</th>\n",
       "    </tr>\n",
       "  </thead>\n",
       "  <tbody>\n",
       "    <tr>\n",
       "      <th>0</th>\n",
       "      <td>20685</td>\n",
       "      <td>20724</td>\n",
       "      <td>0.043271</td>\n",
       "      <td>0.056048</td>\n",
       "      <td>0.002984</td>\n",
       "      <td>0.068966</td>\n",
       "    </tr>\n",
       "    <tr>\n",
       "      <th>1</th>\n",
       "      <td>20685</td>\n",
       "      <td>20725</td>\n",
       "      <td>0.043271</td>\n",
       "      <td>0.103796</td>\n",
       "      <td>0.006155</td>\n",
       "      <td>0.142241</td>\n",
       "    </tr>\n",
       "    <tr>\n",
       "      <th>2</th>\n",
       "      <td>20685</td>\n",
       "      <td>20726</td>\n",
       "      <td>0.043271</td>\n",
       "      <td>0.062296</td>\n",
       "      <td>0.003171</td>\n",
       "      <td>0.073276</td>\n",
       "    </tr>\n",
       "    <tr>\n",
       "      <th>3</th>\n",
       "      <td>20685</td>\n",
       "      <td>20727</td>\n",
       "      <td>0.043271</td>\n",
       "      <td>0.091672</td>\n",
       "      <td>0.004476</td>\n",
       "      <td>0.103448</td>\n",
       "    </tr>\n",
       "    <tr>\n",
       "      <th>4</th>\n",
       "      <td>20685</td>\n",
       "      <td>20728</td>\n",
       "      <td>0.043271</td>\n",
       "      <td>0.081787</td>\n",
       "      <td>0.004663</td>\n",
       "      <td>0.107759</td>\n",
       "    </tr>\n",
       "  </tbody>\n",
       "</table>\n",
       "</div>"
      ],
      "text/plain": [
       "  Antecedent Consequent  Antecedent_support  Consequent_support   support  \\\n",
       "0      20685      20724            0.043271            0.056048  0.002984   \n",
       "1      20685      20725            0.043271            0.103796  0.006155   \n",
       "2      20685      20726            0.043271            0.062296  0.003171   \n",
       "3      20685      20727            0.043271            0.091672  0.004476   \n",
       "4      20685      20728            0.043271            0.081787  0.004663   \n",
       "\n",
       "   confidence  \n",
       "0    0.068966  \n",
       "1    0.142241  \n",
       "2    0.073276  \n",
       "3    0.103448  \n",
       "4    0.107759  "
      ]
     },
     "execution_count": 26,
     "metadata": {},
     "output_type": "execute_result"
    }
   ],
   "source": [
    "affinity_data.head()"
   ]
  },
  {
   "cell_type": "markdown",
   "metadata": {},
   "source": [
    "### Lift\n",
    "\n",
    "It is a factor by which the likelihood of consequent increases given an antecedent.\n",
    "\n",
    "Lift is the ratio of the likelihood of finding Consequent in a basket known to contain Antecedent, to the likelihood of finding Consequent in any random basket.\n",
    "\n",
    "$\\frac{P(consequent|antecedent)}{P(consequent)}$"
   ]
  },
  {
   "cell_type": "code",
   "execution_count": 27,
   "metadata": {},
   "outputs": [],
   "source": [
    "affinity_data['lift'] = affinity_data['confidence']/affinity_data['Consequent_support']"
   ]
  },
  {
   "cell_type": "code",
   "execution_count": 28,
   "metadata": {},
   "outputs": [
    {
     "data": {
      "text/html": [
       "<div>\n",
       "<style scoped>\n",
       "    .dataframe tbody tr th:only-of-type {\n",
       "        vertical-align: middle;\n",
       "    }\n",
       "\n",
       "    .dataframe tbody tr th {\n",
       "        vertical-align: top;\n",
       "    }\n",
       "\n",
       "    .dataframe thead th {\n",
       "        text-align: right;\n",
       "    }\n",
       "</style>\n",
       "<table border=\"1\" class=\"dataframe\">\n",
       "  <thead>\n",
       "    <tr style=\"text-align: right;\">\n",
       "      <th></th>\n",
       "      <th>Antecedent</th>\n",
       "      <th>Consequent</th>\n",
       "      <th>Antecedent_support</th>\n",
       "      <th>Consequent_support</th>\n",
       "      <th>support</th>\n",
       "      <th>confidence</th>\n",
       "      <th>lift</th>\n",
       "    </tr>\n",
       "  </thead>\n",
       "  <tbody>\n",
       "    <tr>\n",
       "      <th>0</th>\n",
       "      <td>20685</td>\n",
       "      <td>20724</td>\n",
       "      <td>0.043271</td>\n",
       "      <td>0.056048</td>\n",
       "      <td>0.002984</td>\n",
       "      <td>0.068966</td>\n",
       "      <td>1.230478</td>\n",
       "    </tr>\n",
       "    <tr>\n",
       "      <th>1</th>\n",
       "      <td>20685</td>\n",
       "      <td>20725</td>\n",
       "      <td>0.043271</td>\n",
       "      <td>0.103796</td>\n",
       "      <td>0.006155</td>\n",
       "      <td>0.142241</td>\n",
       "      <td>1.370399</td>\n",
       "    </tr>\n",
       "    <tr>\n",
       "      <th>2</th>\n",
       "      <td>20685</td>\n",
       "      <td>20726</td>\n",
       "      <td>0.043271</td>\n",
       "      <td>0.062296</td>\n",
       "      <td>0.003171</td>\n",
       "      <td>0.073276</td>\n",
       "      <td>1.176253</td>\n",
       "    </tr>\n",
       "    <tr>\n",
       "      <th>3</th>\n",
       "      <td>20685</td>\n",
       "      <td>20727</td>\n",
       "      <td>0.043271</td>\n",
       "      <td>0.091672</td>\n",
       "      <td>0.004476</td>\n",
       "      <td>0.103448</td>\n",
       "      <td>1.128460</td>\n",
       "    </tr>\n",
       "    <tr>\n",
       "      <th>4</th>\n",
       "      <td>20685</td>\n",
       "      <td>20728</td>\n",
       "      <td>0.043271</td>\n",
       "      <td>0.081787</td>\n",
       "      <td>0.004663</td>\n",
       "      <td>0.107759</td>\n",
       "      <td>1.317555</td>\n",
       "    </tr>\n",
       "  </tbody>\n",
       "</table>\n",
       "</div>"
      ],
      "text/plain": [
       "  Antecedent Consequent  Antecedent_support  Consequent_support   support  \\\n",
       "0      20685      20724            0.043271            0.056048  0.002984   \n",
       "1      20685      20725            0.043271            0.103796  0.006155   \n",
       "2      20685      20726            0.043271            0.062296  0.003171   \n",
       "3      20685      20727            0.043271            0.091672  0.004476   \n",
       "4      20685      20728            0.043271            0.081787  0.004663   \n",
       "\n",
       "   confidence      lift  \n",
       "0    0.068966  1.230478  \n",
       "1    0.142241  1.370399  \n",
       "2    0.073276  1.176253  \n",
       "3    0.103448  1.128460  \n",
       "4    0.107759  1.317555  "
      ]
     },
     "execution_count": 28,
     "metadata": {},
     "output_type": "execute_result"
    }
   ],
   "source": [
    "affinity_data.head()"
   ]
  },
  {
   "cell_type": "markdown",
   "metadata": {},
   "source": [
    "### Conviction\n",
    "\n",
    "It compares the probability that X appears without Y if they were dependent with the actual frequency of the appearance of X without Y."
   ]
  },
  {
   "cell_type": "code",
   "execution_count": 29,
   "metadata": {},
   "outputs": [],
   "source": [
    "def get_conviction(confidence, consequent_support):\n",
    "    if confidence==1:\n",
    "        return 0\n",
    "    else:\n",
    "        return (1-consequent_support)/(1-confidence)"
   ]
  },
  {
   "cell_type": "code",
   "execution_count": 30,
   "metadata": {},
   "outputs": [],
   "source": [
    "affinity_data['conviction'] = affinity_data.apply(lambda row: get_conviction(row['confidence'], row['Consequent_support']), \n",
    "                                                  axis=1)"
   ]
  },
  {
   "cell_type": "code",
   "execution_count": 31,
   "metadata": {},
   "outputs": [
    {
     "data": {
      "text/html": [
       "<div>\n",
       "<style scoped>\n",
       "    .dataframe tbody tr th:only-of-type {\n",
       "        vertical-align: middle;\n",
       "    }\n",
       "\n",
       "    .dataframe tbody tr th {\n",
       "        vertical-align: top;\n",
       "    }\n",
       "\n",
       "    .dataframe thead th {\n",
       "        text-align: right;\n",
       "    }\n",
       "</style>\n",
       "<table border=\"1\" class=\"dataframe\">\n",
       "  <thead>\n",
       "    <tr style=\"text-align: right;\">\n",
       "      <th></th>\n",
       "      <th>Antecedent</th>\n",
       "      <th>Consequent</th>\n",
       "      <th>Antecedent_support</th>\n",
       "      <th>Consequent_support</th>\n",
       "      <th>support</th>\n",
       "      <th>confidence</th>\n",
       "      <th>lift</th>\n",
       "      <th>conviction</th>\n",
       "    </tr>\n",
       "  </thead>\n",
       "  <tbody>\n",
       "    <tr>\n",
       "      <th>0</th>\n",
       "      <td>20685</td>\n",
       "      <td>20724</td>\n",
       "      <td>0.043271</td>\n",
       "      <td>0.056048</td>\n",
       "      <td>0.002984</td>\n",
       "      <td>0.068966</td>\n",
       "      <td>1.230478</td>\n",
       "      <td>1.013875</td>\n",
       "    </tr>\n",
       "    <tr>\n",
       "      <th>1</th>\n",
       "      <td>20685</td>\n",
       "      <td>20725</td>\n",
       "      <td>0.043271</td>\n",
       "      <td>0.103796</td>\n",
       "      <td>0.006155</td>\n",
       "      <td>0.142241</td>\n",
       "      <td>1.370399</td>\n",
       "      <td>1.044821</td>\n",
       "    </tr>\n",
       "    <tr>\n",
       "      <th>2</th>\n",
       "      <td>20685</td>\n",
       "      <td>20726</td>\n",
       "      <td>0.043271</td>\n",
       "      <td>0.062296</td>\n",
       "      <td>0.003171</td>\n",
       "      <td>0.073276</td>\n",
       "      <td>1.176253</td>\n",
       "      <td>1.011848</td>\n",
       "    </tr>\n",
       "    <tr>\n",
       "      <th>3</th>\n",
       "      <td>20685</td>\n",
       "      <td>20727</td>\n",
       "      <td>0.043271</td>\n",
       "      <td>0.091672</td>\n",
       "      <td>0.004476</td>\n",
       "      <td>0.103448</td>\n",
       "      <td>1.128460</td>\n",
       "      <td>1.013135</td>\n",
       "    </tr>\n",
       "    <tr>\n",
       "      <th>4</th>\n",
       "      <td>20685</td>\n",
       "      <td>20728</td>\n",
       "      <td>0.043271</td>\n",
       "      <td>0.081787</td>\n",
       "      <td>0.004663</td>\n",
       "      <td>0.107759</td>\n",
       "      <td>1.317555</td>\n",
       "      <td>1.029108</td>\n",
       "    </tr>\n",
       "  </tbody>\n",
       "</table>\n",
       "</div>"
      ],
      "text/plain": [
       "  Antecedent Consequent  Antecedent_support  Consequent_support   support  \\\n",
       "0      20685      20724            0.043271            0.056048  0.002984   \n",
       "1      20685      20725            0.043271            0.103796  0.006155   \n",
       "2      20685      20726            0.043271            0.062296  0.003171   \n",
       "3      20685      20727            0.043271            0.091672  0.004476   \n",
       "4      20685      20728            0.043271            0.081787  0.004663   \n",
       "\n",
       "   confidence      lift  conviction  \n",
       "0    0.068966  1.230478    1.013875  \n",
       "1    0.142241  1.370399    1.044821  \n",
       "2    0.073276  1.176253    1.011848  \n",
       "3    0.103448  1.128460    1.013135  \n",
       "4    0.107759  1.317555    1.029108  "
      ]
     },
     "execution_count": 31,
     "metadata": {},
     "output_type": "execute_result"
    }
   ],
   "source": [
    "affinity_data.head()"
   ]
  },
  {
   "cell_type": "markdown",
   "metadata": {},
   "source": [
    "### Leverage\n",
    "\n",
    "It is to measure how much more counting is obtained from the co-occurrence of the antecedent and consequent from the expected, i.e., from independence."
   ]
  },
  {
   "cell_type": "code",
   "execution_count": 32,
   "metadata": {},
   "outputs": [],
   "source": [
    "affinity_data['leverage'] = affinity_data['support'] - (affinity_data['Antecedent_support']*affinity_data['Consequent_support'])"
   ]
  },
  {
   "cell_type": "code",
   "execution_count": 33,
   "metadata": {},
   "outputs": [
    {
     "data": {
      "text/html": [
       "<div>\n",
       "<style scoped>\n",
       "    .dataframe tbody tr th:only-of-type {\n",
       "        vertical-align: middle;\n",
       "    }\n",
       "\n",
       "    .dataframe tbody tr th {\n",
       "        vertical-align: top;\n",
       "    }\n",
       "\n",
       "    .dataframe thead th {\n",
       "        text-align: right;\n",
       "    }\n",
       "</style>\n",
       "<table border=\"1\" class=\"dataframe\">\n",
       "  <thead>\n",
       "    <tr style=\"text-align: right;\">\n",
       "      <th></th>\n",
       "      <th>Antecedent</th>\n",
       "      <th>Consequent</th>\n",
       "      <th>Antecedent_support</th>\n",
       "      <th>Consequent_support</th>\n",
       "      <th>support</th>\n",
       "      <th>confidence</th>\n",
       "      <th>lift</th>\n",
       "      <th>conviction</th>\n",
       "      <th>leverage</th>\n",
       "    </tr>\n",
       "  </thead>\n",
       "  <tbody>\n",
       "    <tr>\n",
       "      <th>0</th>\n",
       "      <td>20685</td>\n",
       "      <td>20724</td>\n",
       "      <td>0.043271</td>\n",
       "      <td>0.056048</td>\n",
       "      <td>0.002984</td>\n",
       "      <td>0.068966</td>\n",
       "      <td>1.230478</td>\n",
       "      <td>1.013875</td>\n",
       "      <td>0.000559</td>\n",
       "    </tr>\n",
       "    <tr>\n",
       "      <th>1</th>\n",
       "      <td>20685</td>\n",
       "      <td>20725</td>\n",
       "      <td>0.043271</td>\n",
       "      <td>0.103796</td>\n",
       "      <td>0.006155</td>\n",
       "      <td>0.142241</td>\n",
       "      <td>1.370399</td>\n",
       "      <td>1.044821</td>\n",
       "      <td>0.001664</td>\n",
       "    </tr>\n",
       "    <tr>\n",
       "      <th>2</th>\n",
       "      <td>20685</td>\n",
       "      <td>20726</td>\n",
       "      <td>0.043271</td>\n",
       "      <td>0.062296</td>\n",
       "      <td>0.003171</td>\n",
       "      <td>0.073276</td>\n",
       "      <td>1.176253</td>\n",
       "      <td>1.011848</td>\n",
       "      <td>0.000475</td>\n",
       "    </tr>\n",
       "    <tr>\n",
       "      <th>3</th>\n",
       "      <td>20685</td>\n",
       "      <td>20727</td>\n",
       "      <td>0.043271</td>\n",
       "      <td>0.091672</td>\n",
       "      <td>0.004476</td>\n",
       "      <td>0.103448</td>\n",
       "      <td>1.128460</td>\n",
       "      <td>1.013135</td>\n",
       "      <td>0.000510</td>\n",
       "    </tr>\n",
       "    <tr>\n",
       "      <th>4</th>\n",
       "      <td>20685</td>\n",
       "      <td>20728</td>\n",
       "      <td>0.043271</td>\n",
       "      <td>0.081787</td>\n",
       "      <td>0.004663</td>\n",
       "      <td>0.107759</td>\n",
       "      <td>1.317555</td>\n",
       "      <td>1.029108</td>\n",
       "      <td>0.001124</td>\n",
       "    </tr>\n",
       "  </tbody>\n",
       "</table>\n",
       "</div>"
      ],
      "text/plain": [
       "  Antecedent Consequent  Antecedent_support  Consequent_support   support  \\\n",
       "0      20685      20724            0.043271            0.056048  0.002984   \n",
       "1      20685      20725            0.043271            0.103796  0.006155   \n",
       "2      20685      20726            0.043271            0.062296  0.003171   \n",
       "3      20685      20727            0.043271            0.091672  0.004476   \n",
       "4      20685      20728            0.043271            0.081787  0.004663   \n",
       "\n",
       "   confidence      lift  conviction  leverage  \n",
       "0    0.068966  1.230478    1.013875  0.000559  \n",
       "1    0.142241  1.370399    1.044821  0.001664  \n",
       "2    0.073276  1.176253    1.011848  0.000475  \n",
       "3    0.103448  1.128460    1.013135  0.000510  \n",
       "4    0.107759  1.317555    1.029108  0.001124  "
      ]
     },
     "execution_count": 33,
     "metadata": {},
     "output_type": "execute_result"
    }
   ],
   "source": [
    "affinity_data.head()"
   ]
  },
  {
   "cell_type": "code",
   "execution_count": 34,
   "metadata": {},
   "outputs": [],
   "source": [
    "affinity_data = affinity_data[affinity_data['support']>=0.03]"
   ]
  },
  {
   "cell_type": "code",
   "execution_count": 35,
   "metadata": {},
   "outputs": [],
   "source": [
    "affinity_data['Antecedent'] = affinity_data['Antecedent'].map(item_dict)"
   ]
  },
  {
   "cell_type": "code",
   "execution_count": 36,
   "metadata": {},
   "outputs": [],
   "source": [
    "affinity_data['Consequent'] = affinity_data['Consequent'].map(item_dict)"
   ]
  },
  {
   "cell_type": "code",
   "execution_count": 37,
   "metadata": {},
   "outputs": [
    {
     "data": {
      "text/html": [
       "<div>\n",
       "<style scoped>\n",
       "    .dataframe tbody tr th:only-of-type {\n",
       "        vertical-align: middle;\n",
       "    }\n",
       "\n",
       "    .dataframe tbody tr th {\n",
       "        vertical-align: top;\n",
       "    }\n",
       "\n",
       "    .dataframe thead th {\n",
       "        text-align: right;\n",
       "    }\n",
       "</style>\n",
       "<table border=\"1\" class=\"dataframe\">\n",
       "  <thead>\n",
       "    <tr style=\"text-align: right;\">\n",
       "      <th></th>\n",
       "      <th>Antecedent</th>\n",
       "      <th>Consequent</th>\n",
       "      <th>Antecedent_support</th>\n",
       "      <th>Consequent_support</th>\n",
       "      <th>support</th>\n",
       "      <th>confidence</th>\n",
       "      <th>lift</th>\n",
       "      <th>conviction</th>\n",
       "      <th>leverage</th>\n",
       "    </tr>\n",
       "  </thead>\n",
       "  <tbody>\n",
       "    <tr>\n",
       "      <th>181</th>\n",
       "      <td>LUNCH BAG RED RETROSPOT</td>\n",
       "      <td>LUNCH BAG WOODLAND</td>\n",
       "      <td>0.103796</td>\n",
       "      <td>0.062296</td>\n",
       "      <td>0.033946</td>\n",
       "      <td>0.327044</td>\n",
       "      <td>5.249840</td>\n",
       "      <td>1.393411</td>\n",
       "      <td>0.027480</td>\n",
       "    </tr>\n",
       "    <tr>\n",
       "      <th>182</th>\n",
       "      <td>LUNCH BAG RED RETROSPOT</td>\n",
       "      <td>LUNCH BAG  BLACK SKULL.</td>\n",
       "      <td>0.103796</td>\n",
       "      <td>0.091672</td>\n",
       "      <td>0.045137</td>\n",
       "      <td>0.434861</td>\n",
       "      <td>4.743654</td>\n",
       "      <td>1.607264</td>\n",
       "      <td>0.035621</td>\n",
       "    </tr>\n",
       "    <tr>\n",
       "      <th>183</th>\n",
       "      <td>LUNCH BAG RED RETROSPOT</td>\n",
       "      <td>LUNCH BAG CARS BLUE</td>\n",
       "      <td>0.103796</td>\n",
       "      <td>0.081787</td>\n",
       "      <td>0.038515</td>\n",
       "      <td>0.371069</td>\n",
       "      <td>4.537029</td>\n",
       "      <td>1.459959</td>\n",
       "      <td>0.030026</td>\n",
       "    </tr>\n",
       "    <tr>\n",
       "      <th>210</th>\n",
       "      <td>LUNCH BAG RED RETROSPOT</td>\n",
       "      <td>LUNCH BAG SPACEBOY DESIGN</td>\n",
       "      <td>0.103796</td>\n",
       "      <td>0.080854</td>\n",
       "      <td>0.038236</td>\n",
       "      <td>0.368374</td>\n",
       "      <td>4.556023</td>\n",
       "      <td>1.455205</td>\n",
       "      <td>0.029843</td>\n",
       "    </tr>\n",
       "    <tr>\n",
       "      <th>211</th>\n",
       "      <td>LUNCH BAG RED RETROSPOT</td>\n",
       "      <td>LUNCH BAG SUKI DESIGN</td>\n",
       "      <td>0.103796</td>\n",
       "      <td>0.088968</td>\n",
       "      <td>0.043458</td>\n",
       "      <td>0.418688</td>\n",
       "      <td>4.706073</td>\n",
       "      <td>1.567201</td>\n",
       "      <td>0.034224</td>\n",
       "    </tr>\n",
       "  </tbody>\n",
       "</table>\n",
       "</div>"
      ],
      "text/plain": [
       "                  Antecedent                 Consequent  Antecedent_support  \\\n",
       "181  LUNCH BAG RED RETROSPOT         LUNCH BAG WOODLAND            0.103796   \n",
       "182  LUNCH BAG RED RETROSPOT    LUNCH BAG  BLACK SKULL.            0.103796   \n",
       "183  LUNCH BAG RED RETROSPOT        LUNCH BAG CARS BLUE            0.103796   \n",
       "210  LUNCH BAG RED RETROSPOT  LUNCH BAG SPACEBOY DESIGN            0.103796   \n",
       "211  LUNCH BAG RED RETROSPOT      LUNCH BAG SUKI DESIGN            0.103796   \n",
       "\n",
       "     Consequent_support   support  confidence      lift  conviction  leverage  \n",
       "181            0.062296  0.033946    0.327044  5.249840    1.393411  0.027480  \n",
       "182            0.091672  0.045137    0.434861  4.743654    1.607264  0.035621  \n",
       "183            0.081787  0.038515    0.371069  4.537029    1.459959  0.030026  \n",
       "210            0.080854  0.038236    0.368374  4.556023    1.455205  0.029843  \n",
       "211            0.088968  0.043458    0.418688  4.706073    1.567201  0.034224  "
      ]
     },
     "execution_count": 37,
     "metadata": {},
     "output_type": "execute_result"
    }
   ],
   "source": [
    "affinity_data.head()"
   ]
  },
  {
   "cell_type": "code",
   "execution_count": 38,
   "metadata": {},
   "outputs": [
    {
     "data": {
      "text/html": [
       "<div>\n",
       "<style scoped>\n",
       "    .dataframe tbody tr th:only-of-type {\n",
       "        vertical-align: middle;\n",
       "    }\n",
       "\n",
       "    .dataframe tbody tr th {\n",
       "        vertical-align: top;\n",
       "    }\n",
       "\n",
       "    .dataframe thead th {\n",
       "        text-align: right;\n",
       "    }\n",
       "</style>\n",
       "<table border=\"1\" class=\"dataframe\">\n",
       "  <thead>\n",
       "    <tr style=\"text-align: right;\">\n",
       "      <th></th>\n",
       "      <th>Antecedent</th>\n",
       "      <th>Consequent</th>\n",
       "      <th>Antecedent_support</th>\n",
       "      <th>Consequent_support</th>\n",
       "      <th>support</th>\n",
       "      <th>confidence</th>\n",
       "      <th>lift</th>\n",
       "      <th>conviction</th>\n",
       "      <th>leverage</th>\n",
       "    </tr>\n",
       "  </thead>\n",
       "  <tbody>\n",
       "    <tr>\n",
       "      <th>3151</th>\n",
       "      <td>GREEN REGENCY TEACUP AND SAUCER</td>\n",
       "      <td>ROSES REGENCY TEACUP AND SAUCER</td>\n",
       "      <td>0.056234</td>\n",
       "      <td>0.061830</td>\n",
       "      <td>0.044391</td>\n",
       "      <td>0.789386</td>\n",
       "      <td>12.767105</td>\n",
       "      <td>4.454462</td>\n",
       "      <td>0.040914</td>\n",
       "    </tr>\n",
       "    <tr>\n",
       "      <th>7337</th>\n",
       "      <td>ROSES REGENCY TEACUP AND SAUCER</td>\n",
       "      <td>GREEN REGENCY TEACUP AND SAUCER</td>\n",
       "      <td>0.061830</td>\n",
       "      <td>0.056234</td>\n",
       "      <td>0.044391</td>\n",
       "      <td>0.717949</td>\n",
       "      <td>12.767105</td>\n",
       "      <td>3.346079</td>\n",
       "      <td>0.040914</td>\n",
       "    </tr>\n",
       "    <tr>\n",
       "      <th>8119</th>\n",
       "      <td>GARDENERS KNEELING PAD KEEP CALM</td>\n",
       "      <td>GARDENERS KNEELING PAD CUP OF TEA</td>\n",
       "      <td>0.068638</td>\n",
       "      <td>0.057820</td>\n",
       "      <td>0.042712</td>\n",
       "      <td>0.622283</td>\n",
       "      <td>10.762478</td>\n",
       "      <td>2.494406</td>\n",
       "      <td>0.038743</td>\n",
       "    </tr>\n",
       "    <tr>\n",
       "      <th>3933</th>\n",
       "      <td>GARDENERS KNEELING PAD CUP OF TEA</td>\n",
       "      <td>GARDENERS KNEELING PAD KEEP CALM</td>\n",
       "      <td>0.057820</td>\n",
       "      <td>0.068638</td>\n",
       "      <td>0.042712</td>\n",
       "      <td>0.738710</td>\n",
       "      <td>10.762478</td>\n",
       "      <td>3.564474</td>\n",
       "      <td>0.038743</td>\n",
       "    </tr>\n",
       "    <tr>\n",
       "      <th>3325</th>\n",
       "      <td>ALARM CLOCK BAKELIKE GREEN</td>\n",
       "      <td>ALARM CLOCK BAKELIKE RED</td>\n",
       "      <td>0.062296</td>\n",
       "      <td>0.068824</td>\n",
       "      <td>0.042339</td>\n",
       "      <td>0.679641</td>\n",
       "      <td>9.875051</td>\n",
       "      <td>2.906661</td>\n",
       "      <td>0.038051</td>\n",
       "    </tr>\n",
       "  </tbody>\n",
       "</table>\n",
       "</div>"
      ],
      "text/plain": [
       "                             Antecedent                         Consequent  \\\n",
       "3151    GREEN REGENCY TEACUP AND SAUCER    ROSES REGENCY TEACUP AND SAUCER   \n",
       "7337    ROSES REGENCY TEACUP AND SAUCER    GREEN REGENCY TEACUP AND SAUCER   \n",
       "8119   GARDENERS KNEELING PAD KEEP CALM  GARDENERS KNEELING PAD CUP OF TEA   \n",
       "3933  GARDENERS KNEELING PAD CUP OF TEA   GARDENERS KNEELING PAD KEEP CALM   \n",
       "3325         ALARM CLOCK BAKELIKE GREEN           ALARM CLOCK BAKELIKE RED   \n",
       "\n",
       "      Antecedent_support  Consequent_support   support  confidence       lift  \\\n",
       "3151            0.056234            0.061830  0.044391    0.789386  12.767105   \n",
       "7337            0.061830            0.056234  0.044391    0.717949  12.767105   \n",
       "8119            0.068638            0.057820  0.042712    0.622283  10.762478   \n",
       "3933            0.057820            0.068638  0.042712    0.738710  10.762478   \n",
       "3325            0.062296            0.068824  0.042339    0.679641   9.875051   \n",
       "\n",
       "      conviction  leverage  \n",
       "3151    4.454462  0.040914  \n",
       "7337    3.346079  0.040914  \n",
       "8119    2.494406  0.038743  \n",
       "3933    3.564474  0.038743  \n",
       "3325    2.906661  0.038051  "
      ]
     },
     "execution_count": 38,
     "metadata": {},
     "output_type": "execute_result"
    }
   ],
   "source": [
    "affinity_data.sort_values('lift', ascending=False).head()"
   ]
  }
 ],
 "metadata": {
  "kernelspec": {
   "display_name": "Python 3",
   "language": "python",
   "name": "python3"
  },
  "language_info": {
   "codemirror_mode": {
    "name": "ipython",
    "version": 3
   },
   "file_extension": ".py",
   "mimetype": "text/x-python",
   "name": "python",
   "nbconvert_exporter": "python",
   "pygments_lexer": "ipython3",
   "version": "3.8.12"
  }
 },
 "nbformat": 4,
 "nbformat_minor": 4
}
